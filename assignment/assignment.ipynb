{
  "cells": [
    {
      "cell_type": "markdown",
      "metadata": {
        "id": "F8f2W8xTJr-3"
      },
      "source": [
        "# Assignment: Trees\n",
        "Do three questions."
      ]
    },
    {
      "cell_type": "markdown",
      "metadata": {
        "id": "PIcajXNBJr-4"
      },
      "source": [
        "**Q1.** Please answer the following questions in your own words.\n",
        "\n",
        "**1. How are trees constructed?**\n",
        "\n",
        "- You start with the entire dataset, and you aim to split it into smaller groups based on the target variable (for example, whether someone got divorced or not).\n",
        "\n",
        "- First, you find the best feature to split the data by. For example, a certain question may be a very strong predictor for divorce, and you could first split the data by that. You do this, by looking at which feature reduces impurity the most (i.e. which group has the has lowest Gini impurity score).\n",
        "\n",
        "- Then, you repeat this process for each subgroup until you either reach a point where you have impurity of 0 or can no longer find meaningful splits.\n",
        "\n",
        "- For regression tasks, instead of Gini impurity scores, you use lowest SSE.\n",
        "\n",
        "**2. How do trees handle non-linear relationships between variables? Compare this to linear models.**\n",
        "\n",
        "Trees handle non-linear relationships between variables really well by splitting on variables in the way described in my response to question 1. A good example is with the divorce data. There were 54 questions with response values from 0-4 where 0 meant strongly agree and 4 meant never, and the outcome variable of interest is divorce/married. The relationship between the variables and whether they are divorced or not is not really best measured by a straight line. Rather, the outcome likely depends on a combination of the answers. So, in a linear model, you could do interaction terms between questions in the divorce survey, for example, but that would get really messy, and would likely overfit with too many variables. So, trees handle these non-linear relationships between variables by splitting on them.  \n",
        "\n",
        "**3. Why is the Gini a good loss function for categorical target variables?**\n",
        "\n",
        "The Gini impurity score is a measure of how \"mixed\" the subgroups are after you split the data. With decision trees, you are trying to split the data set into smaller groups based on the target variable to make the best predictions. For predicting a categorical target variable, when you split the dataset into groups, you want one feature to split the data in such a way that the subgroups are dominated by one of the categories in the categorical target variable(s). So, the Gini impurity score is a measure of how \"mixed\" the subgroups are. You want a low Gini impurity score.\n",
        "\n",
        "**4. Why do trees tend to overfit, and how can this tendency be constrained?**\n",
        "\n",
        "Trees are prone to overfitting because they can essentially just memorize the original dataset and produce not meaningful splits/\"grow out of control.\" They may find splits in the data that work really well for the specific sample, but don't hold true for other datasets, and may be overfitting to quirks or specificities in the first dataset. They essentially can \"grow out of control\" and memorize the training data, which does not usually work well for unforeseen data because it splits in unmeaningful ways towards the end, for example. You can contrain this tendency by imposing stopping rules.\n",
        "- One stop rule you can use is *max-depth*, which says stop after a certain number of leaves. This is simple, but can be too rigid.\n",
        "- Another is *min_impurity_decrease*, which says only split it if it reduces impurity by enough. This is more flexible and data-driven.\n",
        "- A third is *min_samples_leaf*, which says do not allow terminal nodes with too few of observations. That is helpful to prevent weird splits on outliers.\n",
        "In summary, trees are prone to overfitting because they can essentially just memorize the original dataset and produce not meaningful splits/\"grow out of control.\"\n",
        "Also worth noting that early stopping is a form of regularization, which is an important ML concept that refers to imposing constraints on the model to force it not to overfit.\n",
        "\n",
        "**5. True or false, and explain: Trees only really perform well in situations with lots of categorical variables as features/covariates.**\n",
        "\n",
        "False. Trees can perform really well for numeric continuous variables too and for tasks like regression. With numeric variables, tree models look for values that best divide the data. For example, if you want to predict type of landmine using voltage, you can look at the density plot from class and see that above a .75 voltage, land mine types are almost entirely either mine type 1 or 2, and below that are either 3-5. So, you can split by .75 where types 4 and 5 drop off to 0. That is how splits work with numeric predictors.  \n",
        "\n",
        "**6. Why don't most versions of classification/regression tree concept allow for more than two branches after a split?**\n",
        "\n",
        "While you can extend ideas of Gini impurity to go beyond two branches after a split, most people avoid that because it gets messy fast. Binary splits keep the model simple and interpretable and since trees are already sensitive to original data and can easily overfit, that is generally why we prefer to keep it simple with binary trees to avoid increased complexity, computation overhead and overfitting risks.  \n",
        "\n",
        "**7. What are some heuristic ways you can examine a tree and decide whether it is probably over- or under-fitting?**\n",
        "\n",
        "Good thing to do is visualize the tree, and then you can check for everything below.\n",
        "\n",
        "One way is checking the tree depth (how many levels there are to the tree) because if there are too many levels, the tree may be too deep, and may be overfitting by capturing too much noise and small details from the training set. Conversely, if it is too shallow (too little levels), it could be underfitting.\n",
        "\n",
        "Another way is to look at how many nodes/splits there are. Too many ==> overfitting. Too little ==> underfitting.\n",
        "\n",
        "Another way is just examining the accuracy on the training and test set. If the training set accuracy is really high and the test set is really low ==> you are probably overfitting. If really bad on both ==> probably underfitting.\n",
        "\n",
        "\n",
        "If overfitting, you can do response in question 4 regularization techniques."
      ]
    },
    {
      "cell_type": "markdown",
      "metadata": {
        "id": "DHNN32MiJr-4"
      },
      "source": [
        "**Q2.** This is a case study on regression and classification trees.\n",
        "\n",
        "1. Load `./data/cars_hw.csv`. How many observations and features/covariates/variables? What are the available variables? Take a look at the first few rows of data.\n",
        "\n",
        "2. For the categorical variables `Make`, `Color`, `Body_type`, `No_of_Owners`, `Fuel_Type`, `Transmission`, and `Transmission_Type`, create dummy/one-hot-encoded representations. For numeric variables, we'll use `Mileage_Run`, `Make_Year`, and `Seating_Capacity`. Our target variable will be `Price`. Make a train-test split of your data.\n",
        "\n",
        "3. From `sklearn.tree`, import the `DecisionTreeRegressor` and `plot_tree`. Use a train-test split to iterate over possible values for `min_samples_leaf`, computing the $R^2$ for each value between 1 and 25. What choice achieves the highest $R^2$ on the test data?\n",
        "\n",
        "4. For the optimal `min_samples_leaf` from 3, regress price on the rest of the features/covariates using the training data. What is your $R^2$ and RMSE on the test set? Plot the dendrogram. Plot the residuals. Is the density of residuals symmetric and centered around 0?\n",
        "\n",
        "4. Run a linear regression of price on the same variables. Which model -- regression tree or linear regression -- performs better on the test set? Why?\n",
        "\n",
        "5. Predict prices using both your tree and your linear model, and make a scatter plot of their values. Describe what you see."
      ]
    },
    {
      "cell_type": "markdown",
      "metadata": {
        "id": "S_famSPxJr-4"
      },
      "source": [
        "**Q3.** This is a case study about classification and regression trees.\n",
        "\n",
        "1. Load the `Breast Cancer METABRIC.csv` dataset. How many observations and variables does it contain? Print out the first few rows of data.\n",
        "\n",
        "2.  We'll use a consistent set of feature/explanatory variables. For numeric variables, we'll include `Tumor Size`, `Lymph nodes examined positive`, `Age at Diagnosis`. For categorical variables, we'll include `Tumor Stage`, `Chemotherapy`, and `Cancer Type Detailed`. One-hot-encode the categorical variables and concatenate them with the numeric variables into a feature/covariate matrix, $X$.\n",
        "\n",
        "3. Let's predict `Overall Survival Status` given the features/covariates $X$. There are 528 missing values, unfortunately: Either drop those rows from your data or add them as a category to predict. Constrain the minimum samples per leaf to 10. Print a dendrogram of the tree. Print a confusion matrix of the algorithm's performance. What is the accuracy?\n",
        "\n",
        "4. For your model in part three, compute three statistics:\n",
        "    - The **true positive rate** or **sensitivity**:\n",
        "        $$\n",
        "        TPR = \\dfrac{TP}{TP+FN}\n",
        "        $$\n",
        "    - The **true negative rate** or **specificity**:\n",
        "        $$\n",
        "        TNR = \\dfrac{TN}{TN+FP}\n",
        "        $$\n",
        "    Does your model tend to perform better with respect to one of these metrics?\n",
        "\n",
        "5. Let's predict `Overall Survival (Months)` given the features/covariates $X$. Use the train/test split to pick the optimal `min_samples_leaf` value that gives the highest $R^2$ on the test set (it's about 110). What is the $R^2$? Plot the test values against the predicted values. How do you feel about this model for clinical purposes?"
      ]
    },
    {
      "cell_type": "markdown",
      "metadata": {
        "id": "3VHrPSbcJr-4"
      },
      "source": [
        "**Q4.** This is a case study about trees using bond rating data. This is a dataset about bond ratings for different companies, alongside a bunch of business statistics and other data. Companies often have multiple reviews at different dates. We want to predict the bond rating (AAA, AA, A, BBB, BB, B, ..., C, D). Do business fundamentals predict the company's rating?\n",
        "\n",
        "1. Load the `./data/corporate_ratings.csv` dataset. How many observations and variables does it contain? Print out the first few rows of data.\n",
        "\n",
        "2.  Plot a histogram of the `ratings` variable. It turns out that the gradations of AAA/AA/A and BBB/BB/B and so on make it hard to get good results with trees. Collapse all AAA/AA/A ratings into just A, and similarly for B and C.\n",
        "\n",
        "3. Use all of the variables **except** Rating, Date, Name, Symbol, and Rating Agency Name. To include Sector, make a dummy/one-hot-encoded representation and include it in your features/covariates. Collect the relevant variables into a data matrix $X$.\n",
        "\n",
        "4. Do a train/test split of the data and use a decision tree classifier to predict the bond rating. Including a min_samples_leaf constraint can raise the accuracy and speed up computation time. Print a confusion matrix and the accuracy of your model. How well do you predict the different bond ratings?\n",
        "\n",
        "5. If you include the rating agency as a feature/covariate/predictor variable, do the results change? How do you interpret this?"
      ]
    },
    {
      "cell_type": "markdown",
      "metadata": {
        "id": "wVL_qxHOJr-5"
      },
      "source": [
        "**Q5.** This is a case study about detecting fraud using classification trees. The goal is to predict the `class` variable, which is 0 for non-fraud and 1 for fraud.\n",
        "\n",
        "1. Open `./data/creditcard_fraud.csv`. Print the number of observations and variables, and look at the first few rows of data. The variables are already normalized and de-identified, and are just called things like `V8` to protect the privacy of the clients.\n",
        "\n",
        "2. Print a table of counts for the `class` variable and make a histogram. What percentage of transactions are fraudulent?\n",
        "\n",
        "3. Drop `Time` and make a decision tree classifier to predict fraud. Print a confusion table and compute the accuracy. This is a serious **class imbalance** problem: The minority class is so small that essentially predicting 0's for all cases will achieve an extremely high accuracy. There are over-sampling techniques to deal with this issue, but we don't have time to cover them in class.\n",
        "\n",
        "4. Imagine that you block every transaction in the test set labelled as fraudulent. How much money is (1) saved that should be saved, (2) lost to fraud anyway, (3) withheld in error from customers? Does implementing this anti-fraud system seem like a good idea, or not? Why?\n",
        "\n",
        "5. Instead of predicting fraud, predict loss: Multiple the `Class` variable times the `Amount` variable, and call it `Loss`. Predict it using a decision tree regressor (making sure to drop Class, Time, and Loss from the features/covariates/predictors). What $R^2$ and RMSE do you get? Make a scatterplot of the predicted values on the test group versus the actual test values. Do you notice any interesting patterns? How could you use this algorithm to decide which transactions to block, and why?\n"
      ]
    },
    {
      "cell_type": "markdown",
      "metadata": {
        "vscode": {
          "languageId": "plaintext"
        },
        "id": "Mds0NqdJJr-5"
      },
      "source": [
        "**Q6.** Show that any decision tree is equivalent to a linear regression on a set of dummy variables that represent the optimal splits in the tree.\n",
        "\n",
        "Hint: You can think of CART as partitioning the feature space into a set of sets $\\{S_1, S_2, ..., S_K\\}$, and then predicting the average for all of the observations in each set $S_k$, $m_k$:\n",
        "$$\n",
        "\\hat{y}(x) = \\sum_{k=1}^K \\mathbb{I}\\{ x \\text{ is in } S_k \\} m_k\n",
        "$$\n",
        "where $\\mathbb{I} \\{ P(x,k)\\}$ takes the value 1 if the proposition $P(x,k)$ is true and 0 otherwise. Now, doesn't that look like least-squares regression on a set of dummy/one-hot-encoded variables?\n",
        "\n",
        "Conversely, can any linear regression be represented by a tree?"
      ]
    }
  ],
  "metadata": {
    "kernelspec": {
      "display_name": "base",
      "language": "python",
      "name": "python3"
    },
    "language_info": {
      "codemirror_mode": {
        "name": "ipython",
        "version": 3
      },
      "file_extension": ".py",
      "mimetype": "text/x-python",
      "name": "python",
      "nbconvert_exporter": "python",
      "pygments_lexer": "ipython3",
      "version": "3.12.2"
    },
    "colab": {
      "provenance": []
    }
  },
  "nbformat": 4,
  "nbformat_minor": 0
}